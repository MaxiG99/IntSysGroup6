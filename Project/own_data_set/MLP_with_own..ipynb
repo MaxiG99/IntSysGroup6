{
 "cells": [
  {
   "cell_type": "code",
   "execution_count": 1,
   "metadata": {},
   "outputs": [],
   "source": [
    "import pandas as pd\n",
    "import numpy as np\n",
    "from sklearn.model_selection import train_test_split\n",
    "from sklearn.preprocessing import MinMaxScaler\n",
    "import tensorflow as tf\n",
    "from keras import layers, models, callbacks, optimizers\n",
    "from matplotlib import pyplot as plt\n",
    "from sklearn.metrics import mean_absolute_error,r2_score\n",
    "import math"
   ]
  },
  {
   "cell_type": "code",
   "execution_count": 2,
   "metadata": {},
   "outputs": [],
   "source": [
    "path = '/Users/HP Spectre/OneDrive - student.kit.edu/uni/Master/Lissabon Kurse/Intelligent Systems/IntSysGroup6/'\n",
    "\n",
    "data = pd.read_csv(path+'Project/data/robot_inverse_kinematics_dataset_own.csv')\n",
    "q3 = pd.read_csv(path+\"Project/saved_pred/q3_pred.csv\")\n",
    "X = data.iloc[:,6:]\n",
    "y = data.iloc[:,0:6]\n",
    "\n",
    "\n",
    "scaler_X = MinMaxScaler()\n",
    "scaler_Y = MinMaxScaler()\n",
    "X = scaler_X.fit_transform(X)\n",
    "y = scaler_Y.fit_transform(y)\n",
    "X_train, X_test, y_train, y_test = train_test_split(X, y,random_state=42, test_size=0.2)\n"
   ]
  },
  {
   "cell_type": "code",
   "execution_count": 3,
   "metadata": {},
   "outputs": [],
   "source": [
    "model = tf.keras.Sequential([\n",
    "        layers.Dense(100, activation='relu'),\n",
    "        layers.Dropout(0.1),\n",
    "        layers.Dense(100, activation='relu'),\n",
    "        layers.Dense(100, activation='relu'),\n",
    "        layers.Dropout(0.1),\n",
    "        layers.Dense(100, activation='relu'),\n",
    "        layers.Dense(6)\n",
    "])"
   ]
  },
  {
   "cell_type": "code",
   "execution_count": 4,
   "metadata": {},
   "outputs": [],
   "source": [
    "def adapt_learning_rate(epoch):\n",
    "    return 0.001 * epoch\n",
    " \n",
    "initial_learning_rate = 0.001\n",
    "lr_schedule = optimizers.schedules.ExponentialDecay(\n",
    "    initial_learning_rate,\n",
    "    decay_steps=1000,  # Adjust this value\n",
    "    decay_rate=0.5,  # Adjust this value\n",
    "    staircase=True\n",
    ")\n",
    "callbacks.LearningRateScheduler(lr_schedule)\n",
    "\n",
    "\n",
    "\n",
    "model.compile(loss='mean_squared_error',\n",
    "              optimizer=optimizers.Adam(0.0001))"
   ]
  },
  {
   "cell_type": "code",
   "execution_count": 5,
   "metadata": {},
   "outputs": [
    {
     "name": "stdout",
     "output_type": "stream",
     "text": [
      "Epoch 1/20\n",
      "13/13 [==============================] - 2s 24ms/step - loss: 0.3346 - val_loss: 0.3205\n",
      "Epoch 2/20\n",
      "13/13 [==============================] - 0s 9ms/step - loss: 0.3138 - val_loss: 0.3010\n",
      "Epoch 3/20\n",
      "13/13 [==============================] - 0s 10ms/step - loss: 0.2941 - val_loss: 0.2811\n",
      "Epoch 4/20\n",
      "13/13 [==============================] - 0s 10ms/step - loss: 0.2728 - val_loss: 0.2582\n",
      "Epoch 5/20\n",
      "13/13 [==============================] - 0s 10ms/step - loss: 0.2474 - val_loss: 0.2306\n",
      "Epoch 6/20\n",
      "13/13 [==============================] - 0s 10ms/step - loss: 0.2177 - val_loss: 0.1979\n",
      "Epoch 7/20\n",
      "13/13 [==============================] - 0s 10ms/step - loss: 0.1836 - val_loss: 0.1626\n",
      "Epoch 8/20\n",
      "13/13 [==============================] - 0s 10ms/step - loss: 0.1486 - val_loss: 0.1295\n",
      "Epoch 9/20\n",
      "13/13 [==============================] - 0s 10ms/step - loss: 0.1200 - val_loss: 0.1062\n",
      "Epoch 10/20\n",
      "13/13 [==============================] - 0s 10ms/step - loss: 0.1037 - val_loss: 0.0962\n",
      "Epoch 11/20\n",
      "13/13 [==============================] - 0s 10ms/step - loss: 0.0981 - val_loss: 0.0938\n",
      "Epoch 12/20\n",
      "13/13 [==============================] - 0s 10ms/step - loss: 0.0969 - val_loss: 0.0929\n",
      "Epoch 13/20\n",
      "13/13 [==============================] - 0s 10ms/step - loss: 0.0955 - val_loss: 0.0919\n",
      "Epoch 14/20\n",
      "13/13 [==============================] - 0s 10ms/step - loss: 0.0944 - val_loss: 0.0909\n",
      "Epoch 15/20\n",
      "13/13 [==============================] - 0s 22ms/step - loss: 0.0937 - val_loss: 0.0898\n",
      "Epoch 16/20\n",
      "13/13 [==============================] - 0s 14ms/step - loss: 0.0930 - val_loss: 0.0889\n",
      "Epoch 17/20\n",
      "13/13 [==============================] - 0s 10ms/step - loss: 0.0916 - val_loss: 0.0878\n",
      "Epoch 18/20\n",
      "13/13 [==============================] - 0s 10ms/step - loss: 0.0906 - val_loss: 0.0867\n",
      "Epoch 19/20\n",
      "13/13 [==============================] - 0s 10ms/step - loss: 0.0893 - val_loss: 0.0856\n",
      "Epoch 20/20\n",
      "13/13 [==============================] - 0s 10ms/step - loss: 0.0883 - val_loss: 0.0845\n"
     ]
    }
   ],
   "source": [
    "early_stopping = callbacks.EarlyStopping(\n",
    "    monitor = 'val_loss',\n",
    "    patience=5,\n",
    "    verbose=1,\n",
    "    restore_best_weights=True\n",
    ")\n",
    "\n",
    "history = model.fit(\n",
    "          X_train,\n",
    "          y_train,\n",
    "          validation_split=0.2,\n",
    "          verbose=1,\n",
    "          epochs=20,\n",
    "          batch_size=256,\n",
    "          callbacks=[early_stopping])"
   ]
  },
  {
   "cell_type": "code",
   "execution_count": 6,
   "metadata": {},
   "outputs": [
    {
     "data": {
      "text/plain": [
       "[<matplotlib.lines.Line2D at 0x14fca319630>]"
      ]
     },
     "execution_count": 6,
     "metadata": {},
     "output_type": "execute_result"
    },
    {
     "data": {
      "image/png": "[encoded data removed]",
      "text/plain": [
       "<Figure size 640x480 with 1 Axes>"
      ]
     },
     "metadata": {},
     "output_type": "display_data"
    }
   ],
   "source": [
    "plt.plot(history.history['loss'])\n",
    "plt.plot(history.history['val_loss'])"
   ]
  },
  {
   "cell_type": "code",
   "execution_count": 7,
   "metadata": {},
   "outputs": [
    {
     "name": "stdout",
     "output_type": "stream",
     "text": [
      "32/32 [==============================] - 0s 2ms/step\n",
      "MAE Absolute:  0.24657814610912684\n",
      "MAE in deg  22.184578087652035\n"
     ]
    }
   ],
   "source": [
    "y_pred = model.predict(X_test)\n",
    "print(\"MAE Absolute: \" ,mean_absolute_error(y_test, y_pred))\n",
    "y_pred = scaler_Y.inverse_transform(y_pred)\n",
    "y_test = scaler_Y.inverse_transform(y_test)\n",
    "print(\"MAE in deg \",math.degrees(mean_absolute_error(y_test, y_pred)))\n",
    "\n",
    "ranges_joints = [330, 220,180, 320,240,360]\n",
    "\n",
    "plt.show()"
   ]
  }
 ],
 "metadata": {
  "kernelspec": {
   "display_name": "Python 3",
   "language": "python",
   "name": "python3"
  },
  "language_info": {
   "codemirror_mode": {
    "name": "ipython",
    "version": 3
   },
   "file_extension": ".py",
   "mimetype": "text/x-python",
   "name": "python",
   "nbconvert_exporter": "python",
   "pygments_lexer": "ipython3",
   "version": "3.10.11"
  }
 },
 "nbformat": 4,
 "nbformat_minor": 2
}
