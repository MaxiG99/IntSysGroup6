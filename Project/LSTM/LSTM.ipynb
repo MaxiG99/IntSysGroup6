{
 "cells": [
  {
   "cell_type": "code",
   "execution_count": 8,
   "source": [
    "import pandas as pd\n",
    "from sklearn.model_selection import train_test_split\n",
    "from sklearn.preprocessing import MinMaxScaler\n",
    "import tensorflow as tf\n",
    "from matplotlib import pyplot as plt\n",
    "from sklearn.metrics import mean_absolute_error, r2_score\n",
    "import math"
   ],
   "outputs": [],
   "metadata": {}
  },
  {
   "cell_type": "code",
   "execution_count": 9,
   "source": [
    "path = '/Users/HP Spectre/OneDrive - student.kit.edu/uni/Master/Lissabon Kurse/Intelligent Systems/IntSysGroup6/'\n",
    "\n",
    "data = pd.read_csv(path+'Project/data/robot_inverse_kinematics_dataset.csv')\n",
    "X = data.iloc[:,6:].to_numpy()\n",
    "y = data.iloc[:,0:6].to_numpy()\n",
    "scaler_X = MinMaxScaler()\n",
    "scaler_Y = MinMaxScaler()\n",
    "X = scaler_X.fit_transform(X)\n",
    "y = scaler_Y.fit_transform(y)\n",
    "print(y.shape)\n",
    "X_train, X_test, y_train, y_test = train_test_split(X, y,random_state=42, test_size=0.2)"
   ],
   "outputs": [
    {
     "output_type": "stream",
     "name": "stdout",
     "text": [
      "(15000, 6)\n"
     ]
    }
   ],
   "metadata": {}
  },
  {
   "cell_type": "code",
   "execution_count": 10,
   "source": [
    "model = tf.keras.Sequential()\n",
    "model.add(tf.keras.layers.LSTM(64, input_shape=(3, 1), return_sequences=True)) \n",
    "\n",
    "model.add(tf.keras.layers.LSTM(128,return_sequences=True))\n",
    "model.add(tf.keras.layers.LSTM(256,return_sequences=True))\n",
    "model.add(tf.keras.layers.LSTM(128,return_sequences=True))\n",
    "model.add(tf.keras.layers.LSTM(64))\n",
    "\n",
    "model.add(tf.keras.layers.Dense(6))\n",
    "\n",
    "model.compile(loss='mean_squared_error',\n",
    "              optimizer=tf.keras.optimizers.Adam(0.0001))"
   ],
   "outputs": [],
   "metadata": {}
  },
  {
   "cell_type": "code",
   "execution_count": 11,
   "source": [
    "history = model.fit(\n",
    "          X_train,\n",
    "          y_train,\n",
    "          validation_split=0.2,\n",
    "          verbose=1,\n",
    "          epochs=50)"
   ],
   "outputs": [
    {
     "output_type": "stream",
     "name": "stdout",
     "text": [
      "Epoch 1/50\n",
      "300/300 [==============================] - 23s 42ms/step - loss: 0.1393 - val_loss: 0.0857\n",
      "Epoch 2/50\n",
      "300/300 [==============================] - 11s 37ms/step - loss: 0.0839 - val_loss: 0.0852\n",
      "Epoch 3/50\n",
      "300/300 [==============================] - 9s 30ms/step - loss: 0.0836 - val_loss: 0.0849\n",
      "Epoch 4/50\n",
      "300/300 [==============================] - 9s 30ms/step - loss: 0.0834 - val_loss: 0.0847\n",
      "Epoch 5/50\n",
      "300/300 [==============================] - 10s 32ms/step - loss: 0.0833 - val_loss: 0.0846\n",
      "Epoch 6/50\n",
      "300/300 [==============================] - 12s 41ms/step - loss: 0.0833 - val_loss: 0.0847\n",
      "Epoch 7/50\n",
      "300/300 [==============================] - 11s 37ms/step - loss: 0.0833 - val_loss: 0.0847\n",
      "Epoch 8/50\n",
      "300/300 [==============================] - 10s 33ms/step - loss: 0.0833 - val_loss: 0.0847\n",
      "Epoch 9/50\n",
      "300/300 [==============================] - 11s 35ms/step - loss: 0.0833 - val_loss: 0.0846\n",
      "Epoch 10/50\n",
      "300/300 [==============================] - 10s 35ms/step - loss: 0.0832 - val_loss: 0.0847\n",
      "Epoch 11/50\n",
      "300/300 [==============================] - 11s 38ms/step - loss: 0.0833 - val_loss: 0.0848\n",
      "Epoch 12/50\n",
      "300/300 [==============================] - 10s 33ms/step - loss: 0.0832 - val_loss: 0.0846\n",
      "Epoch 13/50\n",
      "300/300 [==============================] - 11s 38ms/step - loss: 0.0833 - val_loss: 0.0846\n",
      "Epoch 14/50\n",
      "300/300 [==============================] - 10s 33ms/step - loss: 0.0832 - val_loss: 0.0845\n",
      "Epoch 15/50\n",
      "300/300 [==============================] - 11s 38ms/step - loss: 0.0833 - val_loss: 0.0845\n",
      "Epoch 16/50\n",
      "300/300 [==============================] - 10s 35ms/step - loss: 0.0833 - val_loss: 0.0844\n",
      "Epoch 17/50\n",
      "300/300 [==============================] - 12s 41ms/step - loss: 0.0833 - val_loss: 0.0844\n",
      "Epoch 18/50\n",
      "300/300 [==============================] - 11s 37ms/step - loss: 0.0832 - val_loss: 0.0846\n",
      "Epoch 19/50\n",
      "300/300 [==============================] - 12s 39ms/step - loss: 0.0832 - val_loss: 0.0845\n",
      "Epoch 20/50\n",
      "300/300 [==============================] - 11s 37ms/step - loss: 0.0833 - val_loss: 0.0847\n",
      "Epoch 21/50\n",
      "300/300 [==============================] - 10s 34ms/step - loss: 0.0833 - val_loss: 0.0845\n",
      "Epoch 22/50\n",
      "300/300 [==============================] - 11s 37ms/step - loss: 0.0833 - val_loss: 0.0845\n",
      "Epoch 23/50\n",
      "300/300 [==============================] - 10s 33ms/step - loss: 0.0832 - val_loss: 0.0845\n",
      "Epoch 24/50\n",
      "300/300 [==============================] - 10s 32ms/step - loss: 0.0832 - val_loss: 0.0849\n",
      "Epoch 25/50\n",
      "300/300 [==============================] - 10s 32ms/step - loss: 0.0833 - val_loss: 0.0846\n",
      "Epoch 26/50\n",
      "300/300 [==============================] - 9s 32ms/step - loss: 0.0832 - val_loss: 0.0846\n",
      "Epoch 27/50\n",
      "300/300 [==============================] - 9s 31ms/step - loss: 0.0832 - val_loss: 0.0845\n",
      "Epoch 28/50\n",
      "300/300 [==============================] - 13s 43ms/step - loss: 0.0832 - val_loss: 0.0848\n",
      "Epoch 29/50\n",
      "300/300 [==============================] - 10s 32ms/step - loss: 0.0833 - val_loss: 0.0846\n",
      "Epoch 30/50\n",
      "300/300 [==============================] - 12s 39ms/step - loss: 0.0832 - val_loss: 0.0844\n",
      "Epoch 31/50\n",
      "300/300 [==============================] - 13s 42ms/step - loss: 0.0832 - val_loss: 0.0845\n",
      "Epoch 32/50\n",
      "300/300 [==============================] - 13s 44ms/step - loss: 0.0832 - val_loss: 0.0845\n",
      "Epoch 33/50\n",
      "300/300 [==============================] - 13s 44ms/step - loss: 0.0832 - val_loss: 0.0845\n",
      "Epoch 34/50\n",
      "300/300 [==============================] - 11s 37ms/step - loss: 0.0832 - val_loss: 0.0846\n",
      "Epoch 35/50\n",
      "300/300 [==============================] - 12s 39ms/step - loss: 0.0832 - val_loss: 0.0844\n",
      "Epoch 36/50\n",
      "300/300 [==============================] - 12s 39ms/step - loss: 0.0832 - val_loss: 0.0845\n",
      "Epoch 37/50\n",
      "300/300 [==============================] - 11s 37ms/step - loss: 0.0831 - val_loss: 0.0846\n",
      "Epoch 38/50\n",
      "300/300 [==============================] - 11s 38ms/step - loss: 0.0831 - val_loss: 0.0845\n",
      "Epoch 39/50\n",
      "300/300 [==============================] - 12s 41ms/step - loss: 0.0831 - val_loss: 0.0842\n",
      "Epoch 40/50\n",
      "300/300 [==============================] - 11s 37ms/step - loss: 0.0829 - val_loss: 0.0843\n",
      "Epoch 41/50\n",
      "300/300 [==============================] - 11s 37ms/step - loss: 0.0828 - val_loss: 0.0841\n",
      "Epoch 42/50\n",
      "300/300 [==============================] - 12s 40ms/step - loss: 0.0825 - val_loss: 0.0835\n",
      "Epoch 43/50\n",
      "300/300 [==============================] - 13s 42ms/step - loss: 0.0819 - val_loss: 0.0827\n",
      "Epoch 44/50\n",
      "300/300 [==============================] - 12s 40ms/step - loss: 0.0804 - val_loss: 0.0806\n",
      "Epoch 45/50\n",
      "300/300 [==============================] - 12s 39ms/step - loss: 0.0782 - val_loss: 0.0789\n",
      "Epoch 46/50\n",
      "300/300 [==============================] - 12s 40ms/step - loss: 0.0772 - val_loss: 0.0786\n",
      "Epoch 47/50\n",
      "300/300 [==============================] - 13s 45ms/step - loss: 0.0768 - val_loss: 0.0785\n",
      "Epoch 48/50\n",
      "300/300 [==============================] - 14s 47ms/step - loss: 0.0766 - val_loss: 0.0781\n",
      "Epoch 49/50\n",
      "300/300 [==============================] - 11s 36ms/step - loss: 0.0764 - val_loss: 0.0785\n",
      "Epoch 50/50\n",
      "300/300 [==============================] - 12s 38ms/step - loss: 0.0762 - val_loss: 0.0778\n"
     ]
    }
   ],
   "metadata": {}
  },
  {
   "cell_type": "code",
   "execution_count": 12,
   "source": [
    "plt.plot(history.history['loss'])\n",
    "plt.plot(history.history['val_loss'])\n",
    "plt.show()"
   ],
   "outputs": [
    {
     "output_type": "display_data",
     "data": {
      "image/png": "[encoded data removed]",
      "text/plain": [
       "<Figure size 640x480 with 1 Axes>"
      ]
     },
     "metadata": {}
    }
   ],
   "metadata": {}
  },
  {
   "cell_type": "code",
   "execution_count": 13,
   "source": [
    "y_pred = model.predict(X_test)\n",
    "print(mean_absolute_error(y_test, y_pred))\n",
    "y_pred = scaler_Y.inverse_transform(y_pred)\n",
    "y_test = scaler_Y.inverse_transform(y_test)\n",
    "print(math.degrees(mean_absolute_error(y_test, y_pred)))\n",
    "r2 = r2_score(y_test, y_pred)\n",
    "print(\"R-squared (R2) Score:\", r2*100)\n",
    "\n",
    "plt.show()"
   ],
   "outputs": [
    {
     "output_type": "stream",
     "name": "stdout",
     "text": [
      "94/94 [==============================] - 4s 11ms/step\n",
      "0.23647844344714727\n",
      "60.331075739403424\n",
      "R-squared (R2) Score: 8.2067957685262\n"
     ]
    }
   ],
   "metadata": {}
  }
 ],
 "nbformat": 4,
 "nbformat_minor": 2,
 "metadata": {
  "language_info": {
   "codemirror_mode": {
    "name": "ipython",
    "version": 3
   },
   "file_extension": ".py",
   "mimetype": "text/x-python",
   "name": "python",
   "nbconvert_exporter": "python",
   "pygments_lexer": "ipython3",
   "version": 3
  }
 }
}