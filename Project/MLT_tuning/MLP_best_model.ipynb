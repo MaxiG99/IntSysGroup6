{
 "cells": [
  {
   "cell_type": "code",
   "execution_count": 2,
   "source": [
    "import pandas as pd\n",
    "import numpy as np\n",
    "from sklearn.model_selection import train_test_split\n",
    "from sklearn.preprocessing import MinMaxScaler\n",
    "import tensorflow as tf\n",
    "from keras import layers, models, callbacks, optimizers\n",
    "from matplotlib import pyplot as plt\n",
    "from sklearn.metrics import mean_absolute_error,r2_score\n",
    "import math"
   ],
   "outputs": [],
   "metadata": {}
  },
  {
   "cell_type": "code",
   "execution_count": 3,
   "source": [
    "path = '/Users/HP Spectre/OneDrive - student.kit.edu/uni/Master/Lissabon Kurse/Intelligent Systems/IntSysGroup6/'\n",
    "\n",
    "data = pd.read_csv(path+'Project/data/robot_inverse_kinematics_dataset.csv')\n",
    "\n",
    "X = data.iloc[:,6:].to_numpy()\n",
    "y = data.iloc[:,0:5].to_numpy()\n",
    "\n",
    "scaler_X = MinMaxScaler()\n",
    "scaler_Y = MinMaxScaler()\n",
    "X = scaler_X.fit_transform(X)\n",
    "y = scaler_Y.fit_transform(y)\n",
    "\n",
    "print(y.shape)\n",
    "X_train, X_test, y_train, y_test = train_test_split(X, y,random_state=42, test_size=0.2)"
   ],
   "outputs": [
    {
     "output_type": "stream",
     "name": "stdout",
     "text": [
      "(15000, 5)\n"
     ]
    }
   ],
   "metadata": {}
  },
  {
   "cell_type": "code",
   "execution_count": 4,
   "source": [
    "model = tf.keras.Sequential([\n",
    "        layers.Input(shape=(3,)),\n",
    "        layers.Dense(256, activation='relu'),\n",
    "        layers.Dropout(0.1),\n",
    "        layers.Dense(256, activation='relu'),\n",
    "        layers.Dropout(0.1),\n",
    "        layers.Dense(256, activation='relu'),\n",
    "        layers.Dropout(0.1),\n",
    "        layers.Dense(256, activation='relu'),\n",
    "        layers.Dense(5)\n",
    "])\n",
    "\n",
    " \n",
    "initial_learning_rate = 0.001\n",
    "lr_schedule = optimizers.schedules.ExponentialDecay(\n",
    "    initial_learning_rate,\n",
    "    decay_steps=1000,  # Adjust this value\n",
    "    decay_rate=0.5,  # Adjust this value\n",
    "    staircase=True\n",
    ")\n",
    "callbacks.LearningRateScheduler(lr_schedule)\n",
    "\n",
    "\n",
    "model.compile(loss='mean_squared_error',\n",
    "              optimizer=optimizers.Adam(learning_rate=lr_schedule,\n",
    "                                        weight_decay=0.01))"
   ],
   "outputs": [],
   "metadata": {}
  },
  {
   "cell_type": "code",
   "execution_count": 5,
   "source": [
    "early_stopping = callbacks.EarlyStopping(\n",
    "    monitor = 'val_loss',\n",
    "    patience=5,\n",
    "    verbose=1,\n",
    "    restore_best_weights=True\n",
    ")\n",
    "\n",
    "history = model.fit(\n",
    "          X_train,\n",
    "          y_train,\n",
    "          validation_split=0.2,\n",
    "          verbose=1,\n",
    "          batch_size=128,\n",
    "          epochs=50,\n",
    "          callbacks=[early_stopping])"
   ],
   "outputs": [
    {
     "output_type": "stream",
     "name": "stdout",
     "text": [
      "Epoch 1/50\n",
      "75/75 [==============================] - 3s 14ms/step - loss: 0.0943 - val_loss: 0.0781\n",
      "Epoch 2/50\n",
      "75/75 [==============================] - 1s 9ms/step - loss: 0.0765 - val_loss: 0.0761\n",
      "Epoch 3/50\n",
      "75/75 [==============================] - 1s 9ms/step - loss: 0.0742 - val_loss: 0.0735\n",
      "Epoch 4/50\n",
      "75/75 [==============================] - 1s 9ms/step - loss: 0.0728 - val_loss: 0.0731\n",
      "Epoch 5/50\n",
      "75/75 [==============================] - 1s 11ms/step - loss: 0.0722 - val_loss: 0.0722\n",
      "Epoch 6/50\n",
      "75/75 [==============================] - 1s 13ms/step - loss: 0.0716 - val_loss: 0.0719\n",
      "Epoch 7/50\n",
      "75/75 [==============================] - 1s 11ms/step - loss: 0.0709 - val_loss: 0.0715\n",
      "Epoch 8/50\n",
      "75/75 [==============================] - 1s 11ms/step - loss: 0.0703 - val_loss: 0.0707\n",
      "Epoch 9/50\n",
      "75/75 [==============================] - 1s 12ms/step - loss: 0.0700 - val_loss: 0.0704\n",
      "Epoch 10/50\n",
      "75/75 [==============================] - 1s 10ms/step - loss: 0.0695 - val_loss: 0.0708\n",
      "Epoch 11/50\n",
      "75/75 [==============================] - 1s 14ms/step - loss: 0.0695 - val_loss: 0.0702\n",
      "Epoch 12/50\n",
      "75/75 [==============================] - 1s 14ms/step - loss: 0.0691 - val_loss: 0.0701\n",
      "Epoch 13/50\n",
      "75/75 [==============================] - 1s 11ms/step - loss: 0.0687 - val_loss: 0.0698\n",
      "Epoch 14/50\n",
      "75/75 [==============================] - 1s 12ms/step - loss: 0.0681 - val_loss: 0.0685\n",
      "Epoch 15/50\n",
      "75/75 [==============================] - 1s 13ms/step - loss: 0.0676 - val_loss: 0.0686\n",
      "Epoch 16/50\n",
      "75/75 [==============================] - 1s 11ms/step - loss: 0.0675 - val_loss: 0.0687\n",
      "Epoch 17/50\n",
      "75/75 [==============================] - 1s 10ms/step - loss: 0.0674 - val_loss: 0.0684\n",
      "Epoch 18/50\n",
      "75/75 [==============================] - 1s 12ms/step - loss: 0.0674 - val_loss: 0.0679\n",
      "Epoch 19/50\n",
      "75/75 [==============================] - 1s 16ms/step - loss: 0.0671 - val_loss: 0.0681\n",
      "Epoch 20/50\n",
      "75/75 [==============================] - 1s 19ms/step - loss: 0.0672 - val_loss: 0.0677\n",
      "Epoch 21/50\n",
      "75/75 [==============================] - 1s 16ms/step - loss: 0.0670 - val_loss: 0.0680\n",
      "Epoch 22/50\n",
      "75/75 [==============================] - 1s 14ms/step - loss: 0.0667 - val_loss: 0.0674\n",
      "Epoch 23/50\n",
      "75/75 [==============================] - 1s 11ms/step - loss: 0.0668 - val_loss: 0.0681\n",
      "Epoch 24/50\n",
      "75/75 [==============================] - 1s 9ms/step - loss: 0.0667 - val_loss: 0.0676\n",
      "Epoch 25/50\n",
      "75/75 [==============================] - 1s 9ms/step - loss: 0.0667 - val_loss: 0.0675\n",
      "Epoch 26/50\n",
      "75/75 [==============================] - 1s 9ms/step - loss: 0.0668 - val_loss: 0.0681\n",
      "Epoch 27/50\n",
      "75/75 [==============================] - 1s 9ms/step - loss: 0.0665 - val_loss: 0.0673\n",
      "Epoch 28/50\n",
      "75/75 [==============================] - 1s 10ms/step - loss: 0.0664 - val_loss: 0.0676\n",
      "Epoch 29/50\n",
      "75/75 [==============================] - 1s 10ms/step - loss: 0.0663 - val_loss: 0.0673\n",
      "Epoch 30/50\n",
      "75/75 [==============================] - 1s 11ms/step - loss: 0.0663 - val_loss: 0.0673\n",
      "Epoch 31/50\n",
      "75/75 [==============================] - 1s 9ms/step - loss: 0.0662 - val_loss: 0.0680\n",
      "Epoch 32/50\n",
      "72/75 [===========================>..] - ETA: 0s - loss: 0.0662Restoring model weights from the end of the best epoch: 27.\n",
      "75/75 [==============================] - 1s 11ms/step - loss: 0.0662 - val_loss: 0.0674\n",
      "Epoch 32: early stopping\n"
     ]
    }
   ],
   "metadata": {}
  },
  {
   "cell_type": "code",
   "execution_count": 6,
   "source": [
    "plt.plot(history.history['loss'])\n",
    "plt.plot(history.history['val_loss'])"
   ],
   "outputs": [
    {
     "output_type": "execute_result",
     "data": {
      "text/plain": [
       "[<matplotlib.lines.Line2D at 0x147be61f430>]"
      ]
     },
     "metadata": {},
     "execution_count": 6
    },
    {
     "output_type": "display_data",
     "data": {
      "image/png": "[encoded data removed]",
      "text/plain": [
       "<Figure size 640x480 with 1 Axes>"
      ]
     },
     "metadata": {}
    }
   ],
   "metadata": {}
  },
  {
   "cell_type": "code",
   "execution_count": 7,
   "source": [
    "y_pred = model.predict(X_test)\n",
    "print(\"MAE Absolute: \" ,mean_absolute_error(y_test, y_pred))\n",
    "y_pred = scaler_Y.inverse_transform(y_pred)\n",
    "y_test = scaler_Y.inverse_transform(y_test)\n",
    "print(\"MAE in deg \",mean_absolute_error(np.degrees(y_test), np.degrees(y_pred)))\n",
    "print(\"MAE in deg \",math.degrees(mean_absolute_error(y_test, y_pred)))\n",
    "\n",
    "r2 = r2_score(y_test, y_pred)\n",
    "print(\"R-squared (R2) Score:\", r2*100)\n",
    "plt.show()"
   ],
   "outputs": [
    {
     "output_type": "stream",
     "name": "stdout",
     "text": [
      "94/94 [==============================] - 1s 4ms/step\n",
      "MAE Absolute:  0.2144313194911108\n",
      "MAE in deg  52.48049438414512\n",
      "MAE in deg  52.48049419609741\n",
      "R-squared (R2) Score: 20.340234862210593\n"
     ]
    }
   ],
   "metadata": {}
  },
  {
   "cell_type": "code",
   "execution_count": 8,
   "source": [
    "# Save Model\n",
    "import joblib\n",
    "\n",
    "model_filename = \"Project/MLT_tuning/MLP_q3.pkl\"\n",
    "path= '/Users/HP Spectre/OneDrive - student.kit.edu/uni/Master/Lissabon Kurse/Intelligent Systems/IntSysGroup6/'\n",
    "\n",
    "joblib.dump(model, path+model_filename)"
   ],
   "outputs": [
    {
     "output_type": "execute_result",
     "data": {
      "text/plain": [
       "['/Users/HP Spectre/OneDrive - student.kit.edu/uni/Master/Lissabon Kurse/Intelligent Systems/IntSysGroup6/Project/MLT_tuning/MLP_q3.pkl']"
      ]
     },
     "metadata": {},
     "execution_count": 8
    }
   ],
   "metadata": {}
  }
 ],
 "nbformat": 4,
 "nbformat_minor": 2,
 "metadata": {
  "language_info": {
   "codemirror_mode": {
    "name": "ipython",
    "version": 3
   },
   "file_extension": ".py",
   "mimetype": "text/x-python",
   "name": "python",
   "nbconvert_exporter": "python",
   "pygments_lexer": "ipython3",
   "version": 3
  }
 }
}